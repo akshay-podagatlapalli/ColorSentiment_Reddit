{
 "cells": [
  {
   "cell_type": "code",
   "execution_count": 1,
   "id": "e0a0debd",
   "metadata": {
    "scrolled": true
   },
   "outputs": [],
   "source": [
    "import re\n",
    "import praw\n",
    "import json\n",
    "import string\n",
    "import numpy as np\n",
    "import pandas as pd\n",
    "from nltk.corpus import stopwords\n",
    "from nltk.tokenize import word_tokenize\n",
    "from praw.models import MoreComments\n",
    "from transformers import pipeline"
   ]
  },
  {
   "cell_type": "code",
   "execution_count": 2,
   "id": "6c932d7e",
   "metadata": {},
   "outputs": [
    {
     "name": "stderr",
     "output_type": "stream",
     "text": [
      "Version 7.7.1 of praw is outdated. Version 7.8.1 was released Friday October 25, 2024.\n"
     ]
    }
   ],
   "source": [
    "# this is the API call stuff\n",
    "reddit = praw.Reddit(\n",
    "    client_id = \"qJsvLNd6Goxgqz4LZ6yEbg\",\n",
    "    client_secret = \"KIUx33wL7W434pIy4lru06slhDjAEQ\",\n",
    "    user_agent = \"posts_ds\" \n",
    ")\n",
    "\n",
    "# selecting a specific subreddit\n",
    "subreddit = reddit.subreddit(\"ufc\")\n",
    "\n",
    "# calling the top 10 reddit posts\n",
    "new_posts = subreddit.new(limit=10)"
   ]
  },
  {
   "cell_type": "code",
   "execution_count": 3,
   "id": "a10bf1cc",
   "metadata": {},
   "outputs": [],
   "source": [
    "def remove_urls_specialchar(text, replacement_text=''):\n",
    "    url_pattern = re.compile(r'https?://\\S+|www\\.\\S+|gif\\S+')\n",
    "    text_without_urls = url_pattern.sub(replacement_text, text)\n",
    "    reddit_tokens = re.compile(r'\\br/\\w+|\\bu/\\w+')\n",
    "    text_without_tokens = reddit_tokens.sub(replacement_text, text_without_urls)\n",
    "    special_char = re.compile(r'[^\\w\\s.,!?]|(?<![\\U0001F600-\\U0001F64F\\U0001F300-\\U0001F5FF\\U0001F680-\\U0001F6FF\\U0001F700-\\U0001F77F\\U0001F780-\\U0001F7FF\\U0001F800-\\U0001F8FF\\U0001F900-\\U0001F9FF\\U0001FA00-\\U0001FA6F\\U0001FA70-\\U0001FAFF\\U00002702-\\U000027B0\\U0001F1E6-\\U0001F1FF])')\n",
    "    clean_text = special_char.sub(replacement_text, text_without_tokens)\n",
    "    return clean_text"
   ]
  },
  {
   "cell_type": "code",
   "execution_count": 4,
   "id": "92a3baef",
   "metadata": {},
   "outputs": [],
   "source": [
    "# printing the titles for the top 10 posts\n",
    "def get_data(new_posts = new_posts):\n",
    "    data_dict = {}\n",
    "    for post in new_posts:\n",
    "        # Get the title of the post\n",
    "        post_title = post.title\n",
    "    \n",
    "        # fetch all comments\n",
    "        post.comments.replace_more(limit=None)\n",
    "    \n",
    "        # Create a list of all comment bodies for the post\n",
    "        comments = [comment.body for comment in post.comments.list()]\n",
    "    \n",
    "        # Add the list of comments to the dictionary under the post's title\n",
    "        if post_title in data_dict:\n",
    "            data_dict[post_title].extend(comments)  # Append if the title already exists\n",
    "        else:\n",
    "            data_dict[post_title] = comments  # Add a new entry\n",
    "    \n",
    "    return data_dict"
   ]
  },
  {
   "cell_type": "code",
   "execution_count": 5,
   "id": "6a40ad95",
   "metadata": {},
   "outputs": [],
   "source": [
    "reddit_data_dict = get_data()"
   ]
  },
  {
   "cell_type": "code",
   "execution_count": 6,
   "id": "6ba114b8",
   "metadata": {},
   "outputs": [],
   "source": [
    "def init_preprocess(data = reddit_data_dict):\n",
    "    stop_words = set(stopwords.words('english'))\n",
    "    clean_data_dict = {}\n",
    "    clean_comments = []\n",
    "\n",
    "    for val in data.values():\n",
    "        for sub_val in val:\n",
    "            # removing the urls from the comments\n",
    "            sub_val = remove_urls_specialchar(sub_val)\n",
    "            \n",
    "            # removing all the punctuations from the comments\n",
    "            sub_val = sub_val.translate(str.maketrans('', '',\n",
    "                                        string.punctuation))\n",
    "            sub_val = sub_val.lower()\n",
    "            word_tokens = word_tokenize(sub_val)\n",
    "            filtered_sentence = [w for w in word_tokens if not w.lower() in stop_words]\n",
    "            filtered_sentence = []\n",
    "            for w in word_tokens:\n",
    "                if w not in stop_words:\n",
    "                    filtered_sentence.append(w)\n",
    "            clean_comments.append(filtered_sentence)\n",
    "    \n",
    "    for title in data.keys():\n",
    "        clean_data_dict[title] = clean_comments\n",
    "\n",
    "    return clean_data_dict"
   ]
  },
  {
   "cell_type": "code",
   "execution_count": 7,
   "id": "3a7ec597",
   "metadata": {
    "scrolled": true
   },
   "outputs": [
    {
     "name": "stdout",
     "output_type": "stream",
     "text": [
      "WARNING:tensorflow:From C:\\Users\\aksha\\AppData\\Local\\Programs\\Python\\Python39\\lib\\site-packages\\tf_keras\\src\\losses.py:2976: The name tf.losses.sparse_softmax_cross_entropy is deprecated. Please use tf.compat.v1.losses.sparse_softmax_cross_entropy instead.\n",
      "\n"
     ]
    },
    {
     "name": "stderr",
     "output_type": "stream",
     "text": [
      "Hardware accelerator e.g. GPU is available in the environment, but no `device` argument is passed to the `Pipeline` object. Model will be on CPU.\n"
     ]
    }
   ],
   "source": [
    "# Initialize the sentiment analysis pipeline with the specific model\n",
    "sentiment_pipeline = pipeline(\"sentiment-analysis\", \n",
    "                              model=\"nlptown/bert-base-multilingual-uncased-sentiment\")\n",
    "\n",
    "# Process the preprocessed data\n",
    "store_scores = []\n",
    "for f_list in init_preprocess().values():\n",
    "    for sub_list in f_list:\n",
    "        # Reconstruct the sentence\n",
    "        sentence = \" \".join(sub_list)\n",
    "        \n",
    "        # Perform sentiment analysis\n",
    "        result = sentiment_pipeline(sentence)\n",
    "        store_scores.append(result)\n",
    "#         print(f\"Sentence: {sentence}\")\n",
    "#         print(f\"Sentiment: {result}\")"
   ]
  },
  {
   "cell_type": "code",
   "execution_count": 8,
   "id": "4b13d29b",
   "metadata": {},
   "outputs": [],
   "source": [
    "scores = []\n",
    "for sub_lists in store_scores:\n",
    "    for sub_dicts in sub_lists:\n",
    "        if \"score\" in sub_dicts:\n",
    "            scores.append(sub_dicts[\"score\"])"
   ]
  },
  {
   "cell_type": "code",
   "execution_count": 137,
   "id": "9d457ea0",
   "metadata": {},
   "outputs": [
    {
     "data": {
      "image/png": "[encoded data removed]",
      "text/plain": [
       "<Figure size 432x288 with 1 Axes>"
      ]
     },
     "metadata": {
      "needs_background": "light"
     },
     "output_type": "display_data"
    }
   ],
   "source": [
    "# Normalize scores to range [-1, 1]\n",
    "scores = np.array(scores)\n",
    "# scores_normalized = (scores - scores.min()) / (scores.max() - scores.min()) * 2 - 1\n",
    "\n",
    "# Function to map sentiment score to color\n",
    "def sentiment_to_color(score):\n",
    "    cmap = mcolors.LinearSegmentedColormap.from_list(\"\", ['red', 'yellow', 'green'])\n",
    "    return cmap((score + 1) / 2)  # Normalize score to 0-1 for the colormap\n",
    "\n",
    "# Create a 2D grid for the gradient\n",
    "x = np.linspace(0, 1, 500)  # Horizontal axis\n",
    "y = np.linspace(0, 1, 500)  # Vertical axis\n",
    "X, Y = np.meshgrid(x, y)\n",
    "\n",
    "# Create an organic-looking sentiment field\n",
    "base_field = np.interp(\n",
    "    np.linspace(0, len(scores_normalized) - 1, 500), np.arange(len(scores_normalized)), scores_normalized\n",
    ")\n",
    "base_field = np.tile(base_field, (500, 1))  # Repeat scores across rows\n",
    "\n",
    "# Add random noise to create organic variation\n",
    "# add noise + time of comment as a slider to \"move\" the mood\n",
    "noise = np.random.normal(loc=0.0, scale=100, size=(500, 500))\n",
    "\n",
    "# Combine the base field with noise\n",
    "Z = base_field + noise\n",
    "\n",
    "# Apply Gaussian blur to smooth the noise and make it look like an aura\n",
    "Z = gaussian_filter(Z, sigma=100)\n",
    "\n",
    "# Normalize Z to a range of [-1, 1] for sentiment mapping\n",
    "Z_normalized = (Z - Z.min()) / (Z.max() - Z.min()) * 2 - 1\n",
    "\n",
    "# Map normalized scores to colors\n",
    "cmap = mcolors.LinearSegmentedColormap.from_list(\"\", ['red', 'green', 'yellow'])\n",
    "colors = cmap((Z_normalized + 1) / 2)  # Map to the colormap\n",
    "\n",
    "# Plot the gradient\n",
    "plt.imshow(colors, extent=[1, 0, 1, 0], origin='lower', aspect='auto')\n",
    "plt.axis('off')  # Hide axes for a cleaner look\n",
    "plt.show()"
   ]
  }
 ],
 "metadata": {
  "kernelspec": {
   "display_name": "Python 3 (ipykernel)",
   "language": "python",
   "name": "python3"
  },
  "language_info": {
   "codemirror_mode": {
    "name": "ipython",
    "version": 3
   },
   "file_extension": ".py",
   "mimetype": "text/x-python",
   "name": "python",
   "nbconvert_exporter": "python",
   "pygments_lexer": "ipython3",
   "version": "3.9.13"
  }
 },
 "nbformat": 4,
 "nbformat_minor": 5
}
