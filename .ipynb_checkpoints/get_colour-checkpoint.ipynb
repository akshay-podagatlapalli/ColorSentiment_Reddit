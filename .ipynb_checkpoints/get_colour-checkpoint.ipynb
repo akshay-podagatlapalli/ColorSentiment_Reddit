{
 "cells": [
  {
   "cell_type": "code",
   "execution_count": null,
   "id": "88602ff6",
   "metadata": {},
   "outputs": [],
   "source": [
    "import numpy as np\n",
    "import matplotlib.pyplot as plt\n",
    "import matplotlib.colors as mcolors\n",
    "from scipy.ndimage import gaussian_filter"
   ]
  },
  {
   "cell_type": "code",
   "execution_count": null,
   "id": "1ca849d4",
   "metadata": {},
   "outputs": [],
   "source": [
    "scores = []\n",
    "for sub_lists in store_scores:\n",
    "    for sub_dicts in sub_lists:\n",
    "        if \"score\" in sub_dicts:\n",
    "            scores.append(sub_dicts[\"score\"])"
   ]
  },
  {
   "cell_type": "code",
   "execution_count": null,
   "id": "1de4125c",
   "metadata": {},
   "outputs": [],
   "source": [
    "# Normalize scores to range [-1, 1]\n",
    "scores = np.array(scores)\n",
    "scores_normalized = (scores - scores.min()) / (scores.max() - scores.min()) * 2 - 1\n",
    "\n",
    "# Function to map sentiment score to color\n",
    "def sentiment_to_color(score):\n",
    "    cmap = mcolors.LinearSegmentedColormap.from_list(\"\", ['red', 'yellow', 'green'])\n",
    "    return cmap((score + 1) / 2)  # Normalize score to 0-1 for the colormap\n",
    "\n",
    "# Create a 2D grid for the gradient\n",
    "x = np.linspace(0, 1, 500)  # Horizontal axis\n",
    "y = np.linspace(0, 1, 500)  # Vertical axis\n",
    "X, Y = np.meshgrid(x, y)\n",
    "\n",
    "# Create an organic-looking sentiment field\n",
    "base_field = np.interp(\n",
    "    np.linspace(0, len(scores_normalized) - 1, 500), np.arange(len(scores_normalized)), scores_normalized\n",
    ")\n",
    "base_field = np.tile(base_field, (500, 1))  # Repeat scores across rows\n",
    "\n",
    "# Add random noise to create organic variation\n",
    "noise = np.random.normal(loc=0.0, scale=0.3, size=(500, 500))\n",
    "\n",
    "# Combine the base field with noise\n",
    "Z = base_field + noise\n",
    "\n",
    "# Apply Gaussian blur to smooth the noise and make it look like an aura\n",
    "Z = gaussian_filter(Z, sigma=50)\n",
    "\n",
    "# Normalize Z to a range of [-1, 1] for sentiment mapping\n",
    "Z_normalized = (Z - Z.min()) / (Z.max() - Z.min()) * 2 - 1\n",
    "\n",
    "# Map normalized scores to colors\n",
    "cmap = mcolors.LinearSegmentedColormap.from_list(\"\", ['red', 'yellow', 'green'])\n",
    "colors = cmap((Z_normalized + 1) / 2)  # Map to the colormap\n",
    "\n",
    "# Plot the gradient\n",
    "plt.imshow(colors, extent=[1, 0, 1, 0], origin='lower', aspect='auto')\n",
    "plt.axis('off')  # Hide axes for a cleaner look\n",
    "plt.show()"
   ]
  }
 ],
 "metadata": {
  "kernelspec": {
   "display_name": "Python 3 (ipykernel)",
   "language": "python",
   "name": "python3"
  },
  "language_info": {
   "codemirror_mode": {
    "name": "ipython",
    "version": 3
   },
   "file_extension": ".py",
   "mimetype": "text/x-python",
   "name": "python",
   "nbconvert_exporter": "python",
   "pygments_lexer": "ipython3",
   "version": "3.9.13"
  }
 },
 "nbformat": 4,
 "nbformat_minor": 5
}
